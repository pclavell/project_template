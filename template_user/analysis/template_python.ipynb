{
 "cells": [
  {
   "cell_type": "code",
   "execution_count": 1,
   "id": "ccb83c2a-c8e5-4e7f-82ac-609733370909",
   "metadata": {},
   "outputs": [
    {
     "ename": "ModuleNotFoundError",
     "evalue": "No module named 'resources'",
     "output_type": "error",
     "traceback": [
      "\u001b[0;31m---------------------------------------------------------------------------\u001b[0m",
      "\u001b[0;31mModuleNotFoundError\u001b[0m                       Traceback (most recent call last)",
      "\u001b[0;32m<ipython-input-1-5e9bd139231c>\u001b[0m in \u001b[0;36m<module>\u001b[0;34m\u001b[0m\n\u001b[1;32m     10\u001b[0m \u001b[0msys\u001b[0m\u001b[0;34m.\u001b[0m\u001b[0mpath\u001b[0m\u001b[0;34m.\u001b[0m\u001b[0mappend\u001b[0m\u001b[0;34m(\u001b[0m\u001b[0muser_dir\u001b[0m\u001b[0;34m)\u001b[0m\u001b[0;34m\u001b[0m\u001b[0;34m\u001b[0m\u001b[0m\n\u001b[1;32m     11\u001b[0m \u001b[0;34m\u001b[0m\u001b[0m\n\u001b[0;32m---> 12\u001b[0;31m \u001b[0;32mfrom\u001b[0m \u001b[0mresources\u001b[0m\u001b[0;34m.\u001b[0m\u001b[0mutils\u001b[0m \u001b[0;32mimport\u001b[0m \u001b[0;34m*\u001b[0m\u001b[0;34m\u001b[0m\u001b[0;34m\u001b[0m\u001b[0m\n\u001b[0m",
      "\u001b[0;31mModuleNotFoundError\u001b[0m: No module named 'resources'"
     ]
    }
   ],
   "source": [
    "from pathlib import Path\n",
    "import re\n",
    "import os\n",
    "import sys\n",
    "import pandas as pd\n",
    "from snakemake.io import expand\n",
    "\n",
    "script_path = Path.cwd()\n",
    "user_dir = re.sub(r\"/(metadata|processing|analysis)/.*$\", \"\", str(script_path))\n",
    "sys.path.append(user_dir)\n",
    "\n",
    "from resources.utils import *"
   ]
  },
  {
   "cell_type": "code",
   "execution_count": 2,
   "id": "53418aec-3752-448a-b70e-1676cc31c29c",
   "metadata": {},
   "outputs": [
    {
     "data": {
      "text/plain": [
       "'/Users/fairliereese/Documents/programming/mele_lab/projects/project_template/template_user/analysis'"
      ]
     },
     "execution_count": 2,
     "metadata": {},
     "output_type": "execute_result"
    }
   ],
   "source": [
    "user_dir"
   ]
  },
  {
   "cell_type": "code",
   "execution_count": 39,
   "id": "70200e60-abad-419b-a909-3f3e67431347",
   "metadata": {},
   "outputs": [],
   "source": [
    "config = load_config_abs()"
   ]
  },
  {
   "cell_type": "code",
   "execution_count": 37,
   "id": "2d8f7b1c-256c-4a43-b159-8f1228ec75c6",
   "metadata": {},
   "outputs": [],
   "source": [
    "# examples of loading / parsing data using the config file\n",
    "meta_df = pd.read_csv(config['metadata'], sep='\\t')\n",
    "meta_df.head()"
   ]
  },
  {
   "cell_type": "code",
   "execution_count": 25,
   "id": "528cf112-f803-459a-bbb3-f567f28a6a49",
   "metadata": {},
   "outputs": [
    {
     "name": "stdout",
     "output_type": "stream",
     "text": [
      "['/Users/fairliereese/Documents/programming/mele_lab/projects/test_project_template/data/fake_dir/example_mysample1.bam']\n"
     ]
    }
   ],
   "source": [
    "fname = expand(config['data']['bam'], \n",
    "               sample=meta_df['sample'])\n",
    "print(fname)"
   ]
  },
  {
   "cell_type": "code",
   "execution_count": 26,
   "id": "589e40d4-164f-486e-ac12-846673c0efde",
   "metadata": {},
   "outputs": [
    {
     "data": {
      "text/plain": [
       "0    mysample1\n",
       "Name: sample, dtype: object"
      ]
     },
     "execution_count": 26,
     "metadata": {},
     "output_type": "execute_result"
    }
   ],
   "source": [
    "meta_df['sample']"
   ]
  },
  {
   "cell_type": "code",
   "execution_count": null,
   "id": "55280129-e160-4a24-b15e-9849a1308e44",
   "metadata": {},
   "outputs": [],
   "source": []
  }
 ],
 "metadata": {
  "kernelspec": {
   "display_name": "Python 3",
   "language": "python",
   "name": "python3"
  },
  "language_info": {
   "codemirror_mode": {
    "name": "ipython",
    "version": 3
   },
   "file_extension": ".py",
   "mimetype": "text/x-python",
   "name": "python",
   "nbconvert_exporter": "python",
   "pygments_lexer": "ipython3",
   "version": "3.7.12"
  }
 },
 "nbformat": 4,
 "nbformat_minor": 5
}
