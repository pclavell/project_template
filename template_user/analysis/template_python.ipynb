{
 "cells": [
  {
   "cell_type": "code",
   "execution_count": 1,
   "id": "ccb83c2a-c8e5-4e7f-82ac-609733370909",
   "metadata": {},
   "outputs": [],
   "source": [
    "from pyprojroot.here import here\n",
    "import sys\n",
    "import pandas as pd\n",
    "\n",
    "sys.path.append(str(here()))\n",
    "\n",
    "from resources.utils import *"
   ]
  },
  {
   "cell_type": "code",
   "execution_count": 2,
   "id": "70200e60-abad-419b-a909-3f3e67431347",
   "metadata": {},
   "outputs": [],
   "source": [
    "config = load_config()\n",
    "paths = load_paths()"
   ]
  },
  {
   "cell_type": "code",
   "execution_count": 4,
   "id": "2d8f7b1c-256c-4a43-b159-8f1228ec75c6",
   "metadata": {},
   "outputs": [],
   "source": [
    "# examples of loading / parsing data using the config file\n",
    "meta_df = pd.read_csv(config['metadata'], sep='\\t')\n",
    "meta_df.head()"
   ]
  },
  {
   "cell_type": "code",
   "execution_count": 25,
   "id": "528cf112-f803-459a-bbb3-f567f28a6a49",
   "metadata": {},
   "outputs": [
    {
     "name": "stdout",
     "output_type": "stream",
     "text": [
      "['/Users/fairliereese/Documents/programming/mele_lab/projects/test_project_template/data/fake_dir/example_mysample1.bam']\n"
     ]
    }
   ],
   "source": [
    "fname = expand(config['data']['bam'], \n",
    "               sample=meta_df['sample'])\n",
    "print(fname)"
   ]
  },
  {
   "cell_type": "code",
   "execution_count": 26,
   "id": "589e40d4-164f-486e-ac12-846673c0efde",
   "metadata": {},
   "outputs": [
    {
     "data": {
      "text/plain": [
       "0    mysample1\n",
       "Name: sample, dtype: object"
      ]
     },
     "execution_count": 26,
     "metadata": {},
     "output_type": "execute_result"
    }
   ],
   "source": [
    "meta_df['sample']"
   ]
  }
 ],
 "metadata": {
  "kernelspec": {
   "display_name": "Python 3",
   "language": "python",
   "name": "python3"
  },
  "language_info": {
   "codemirror_mode": {
    "name": "ipython",
    "version": 3
   },
   "file_extension": ".py",
   "mimetype": "text/x-python",
   "name": "python",
   "nbconvert_exporter": "python",
   "pygments_lexer": "ipython3",
   "version": "3.7.12"
  }
 },
 "nbformat": 4,
 "nbformat_minor": 5
}
