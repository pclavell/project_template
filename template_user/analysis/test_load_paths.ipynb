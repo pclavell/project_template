{
 "cells": [
  {
   "cell_type": "code",
   "execution_count": 1,
   "id": "6f2db026-2d5a-4e9e-bc36-a695c40c3ed0",
   "metadata": {},
   "outputs": [],
   "source": [
    "from pyprojroot.here import here\n",
    "import sys\n",
    "import pandas as pd\n",
    "\n",
    "sys.path.append(str(here()))\n",
    "\n",
    "from resources.utils import *"
   ]
  },
  {
   "cell_type": "code",
   "execution_count": 2,
   "id": "bfa18b0c-74f0-419d-b28a-aed5ec81f779",
   "metadata": {},
   "outputs": [],
   "source": [
    "paths = load_paths()"
   ]
  },
  {
   "cell_type": "code",
   "execution_count": 3,
   "id": "4812952a-e5fa-4204-9da7-70019241a6a6",
   "metadata": {},
   "outputs": [
    {
     "data": {
      "text/plain": [
       "{'\\\\{data_dir\\\\}': '/Users/fairliereese/Documents/programming/mele_lab/projects/fetal_dev/data',\n",
       " '\\\\{figures_dir\\\\}': '/Users/fairliereese/Documents/programming/mele_lab/projects/fetal_dev/figures',\n",
       " '\\\\{metadata_dir\\\\}': '/Users/fairliereese/Documents/programming/mele_lab/projects/fetal_dev/freese/metadata',\n",
       " '\\\\{ref_dir\\\\}': '/Users/fairliereese/Documents/programming/mele_lab/projects/fetal_dev/ref'}"
      ]
     },
     "execution_count": 3,
     "metadata": {},
     "output_type": "execute_result"
    }
   ],
   "source": [
    "paths"
   ]
  },
  {
   "cell_type": "code",
   "execution_count": null,
   "id": "1e1589ef-b1dd-4edb-9efd-ddc62930fc35",
   "metadata": {},
   "outputs": [],
   "source": []
  }
 ],
 "metadata": {
  "kernelspec": {
   "display_name": "Python 3",
   "language": "python",
   "name": "python3"
  },
  "language_info": {
   "codemirror_mode": {
    "name": "ipython",
    "version": 3
   },
   "file_extension": ".py",
   "mimetype": "text/x-python",
   "name": "python",
   "nbconvert_exporter": "python",
   "pygments_lexer": "ipython3",
   "version": "3.7.12"
  }
 },
 "nbformat": 4,
 "nbformat_minor": 5
}
