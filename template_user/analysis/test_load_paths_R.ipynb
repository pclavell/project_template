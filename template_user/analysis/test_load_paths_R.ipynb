{
 "cells": [
  {
   "cell_type": "code",
   "execution_count": 1,
   "id": "a081d34e-d7ff-47a2-9935-359041c9d4ef",
   "metadata": {},
   "outputs": [
    {
     "name": "stderr",
     "output_type": "stream",
     "text": [
      "here() starts at /Users/fairliereese/Documents/programming/mele_lab/projects/project_template/template_user\n",
      "\n"
     ]
    }
   ],
   "source": [
    "# HEADER -----------------------------------------------------------------------\n",
    "library(here)\n",
    "source(here(\"resources\", \"utils.r\")) # here referes to where .here file sits (in the user dir)\n",
    "config <- load_config(here()) # to refer to files in config use config$\n",
    "resources <- load_paths(here()) # to refer to data, figs, metadata, ref, scratch use resources$"
   ]
  },
  {
   "cell_type": "code",
   "execution_count": 2,
   "id": "9df6ba8a-a60e-42ae-ba12-85acb9147b0a",
   "metadata": {},
   "outputs": [
    {
     "data": {
      "text/html": [
       "<dl>\n",
       "\t<dt>$data_dir</dt>\n",
       "\t\t<dd>'/Users/fairliereese/Documents/programming/mele_lab/projects/fetal_dev/data'</dd>\n",
       "\t<dt>$figures_dir</dt>\n",
       "\t\t<dd>'/Users/fairliereese/Documents/programming/mele_lab/projects/fetal_dev/figures'</dd>\n",
       "\t<dt>$metadata_dir</dt>\n",
       "\t\t<dd>'/Users/fairliereese/Documents/programming/mele_lab/projects/fetal_dev/freese/metadata'</dd>\n",
       "\t<dt>$ref_dir</dt>\n",
       "\t\t<dd>'/Users/fairliereese/Documents/programming/mele_lab/projects/fetal_dev/ref'</dd>\n",
       "</dl>\n"
      ],
      "text/latex": [
       "\\begin{description}\n",
       "\\item[\\$data\\_dir] '/Users/fairliereese/Documents/programming/mele\\_lab/projects/fetal\\_dev/data'\n",
       "\\item[\\$figures\\_dir] '/Users/fairliereese/Documents/programming/mele\\_lab/projects/fetal\\_dev/figures'\n",
       "\\item[\\$metadata\\_dir] '/Users/fairliereese/Documents/programming/mele\\_lab/projects/fetal\\_dev/freese/metadata'\n",
       "\\item[\\$ref\\_dir] '/Users/fairliereese/Documents/programming/mele\\_lab/projects/fetal\\_dev/ref'\n",
       "\\end{description}\n"
      ],
      "text/markdown": [
       "$data_dir\n",
       ":   '/Users/fairliereese/Documents/programming/mele_lab/projects/fetal_dev/data'\n",
       "$figures_dir\n",
       ":   '/Users/fairliereese/Documents/programming/mele_lab/projects/fetal_dev/figures'\n",
       "$metadata_dir\n",
       ":   '/Users/fairliereese/Documents/programming/mele_lab/projects/fetal_dev/freese/metadata'\n",
       "$ref_dir\n",
       ":   '/Users/fairliereese/Documents/programming/mele_lab/projects/fetal_dev/ref'\n",
       "\n",
       "\n"
      ],
      "text/plain": [
       "$data_dir\n",
       "[1] \"/Users/fairliereese/Documents/programming/mele_lab/projects/fetal_dev/data\"\n",
       "\n",
       "$figures_dir\n",
       "[1] \"/Users/fairliereese/Documents/programming/mele_lab/projects/fetal_dev/figures\"\n",
       "\n",
       "$metadata_dir\n",
       "[1] \"/Users/fairliereese/Documents/programming/mele_lab/projects/fetal_dev/freese/metadata\"\n",
       "\n",
       "$ref_dir\n",
       "[1] \"/Users/fairliereese/Documents/programming/mele_lab/projects/fetal_dev/ref\"\n"
      ]
     },
     "metadata": {},
     "output_type": "display_data"
    }
   ],
   "source": [
    "resources"
   ]
  },
  {
   "cell_type": "code",
   "execution_count": 3,
   "id": "9b11028b-1fa3-431e-a487-d90ff76f9f4e",
   "metadata": {},
   "outputs": [
    {
     "data": {
      "text/html": [
       "'/Users/fairliereese/Documents/programming/mele_lab/projects/fetal_dev/data'"
      ],
      "text/latex": [
       "'/Users/fairliereese/Documents/programming/mele\\_lab/projects/fetal\\_dev/data'"
      ],
      "text/markdown": [
       "'/Users/fairliereese/Documents/programming/mele_lab/projects/fetal_dev/data'"
      ],
      "text/plain": [
       "[1] \"/Users/fairliereese/Documents/programming/mele_lab/projects/fetal_dev/data\""
      ]
     },
     "metadata": {},
     "output_type": "display_data"
    }
   ],
   "source": [
    "resources$data_dir"
   ]
  },
  {
   "cell_type": "code",
   "execution_count": null,
   "id": "03ae6030-2861-403f-b828-8a10c1f097e6",
   "metadata": {},
   "outputs": [],
   "source": []
  }
 ],
 "metadata": {
  "kernelspec": {
   "display_name": "R",
   "language": "R",
   "name": "ir"
  },
  "language_info": {
   "codemirror_mode": "r",
   "file_extension": ".r",
   "mimetype": "text/x-r-source",
   "name": "R",
   "pygments_lexer": "r",
   "version": "4.4.1"
  }
 },
 "nbformat": 4,
 "nbformat_minor": 5
}
