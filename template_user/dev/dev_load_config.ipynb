{
 "cells": [
  {
   "cell_type": "code",
   "execution_count": 1,
   "id": "b8a60cb7-63cb-4498-be25-bec43c6c109d",
   "metadata": {},
   "outputs": [],
   "source": [
    "from pyprojroot.here import here\n",
    "import sys\n",
    "import pandas as pd\n",
    "import pathlib\n",
    "from collections import defaultdict, Counter\n",
    "\n",
    "sys.path.append(str(here()))\n",
    "\n",
    "from resources.utils import *\n",
    "from test_utils import *"
   ]
  },
  {
   "cell_type": "code",
   "execution_count": 2,
   "id": "95767a8e-ae1f-4370-9a0e-47dce48bf7dd",
   "metadata": {},
   "outputs": [
    {
     "ename": "ValueError",
     "evalue": "Username samuel joseph morabito not found in resources. Available: ['bscuser1', 'bscuser2', 'localuser1', 'localuser2', 'mn5_user']",
     "output_type": "error",
     "traceback": [
      "\u001b[0;31m---------------------------------------------------------------------------\u001b[0m",
      "\u001b[0;31mValueError\u001b[0m                                Traceback (most recent call last)",
      "\u001b[0;32m<ipython-input-2-c80f91d57b2b>\u001b[0m in \u001b[0;36m<module>\u001b[0;34m\u001b[0m\n\u001b[1;32m      4\u001b[0m \u001b[0mget_path_map\u001b[0m\u001b[0;34m(\u001b[0m\u001b[0mresources\u001b[0m\u001b[0;34m=\u001b[0m\u001b[0;34m'test_yml_out.yml'\u001b[0m\u001b[0;34m,\u001b[0m \u001b[0musername\u001b[0m\u001b[0;34m=\u001b[0m\u001b[0;34m'bscuser1'\u001b[0m\u001b[0;34m)\u001b[0m \u001b[0;31m# mn5 user\u001b[0m\u001b[0;34m\u001b[0m\u001b[0;34m\u001b[0m\u001b[0m\n\u001b[1;32m      5\u001b[0m \u001b[0mget_path_map\u001b[0m\u001b[0;34m(\u001b[0m\u001b[0mresources\u001b[0m\u001b[0;34m=\u001b[0m\u001b[0;34m'test_yml_out.yml'\u001b[0m\u001b[0;34m,\u001b[0m \u001b[0mmn5_user\u001b[0m\u001b[0;34m=\u001b[0m\u001b[0;32mTrue\u001b[0m\u001b[0;34m)\u001b[0m \u001b[0;31m# mn5 generic user\u001b[0m\u001b[0;34m\u001b[0m\u001b[0;34m\u001b[0m\u001b[0m\n\u001b[0;32m----> 6\u001b[0;31m \u001b[0mget_path_map\u001b[0m\u001b[0;34m(\u001b[0m\u001b[0mresources\u001b[0m\u001b[0;34m=\u001b[0m\u001b[0;34m'test_yml_out.yml'\u001b[0m\u001b[0;34m,\u001b[0m \u001b[0musername\u001b[0m\u001b[0;34m=\u001b[0m\u001b[0;34m'samuel joseph morabito'\u001b[0m\u001b[0;34m)\u001b[0m\u001b[0;31m# user that doesn't exist\u001b[0m\u001b[0;34m\u001b[0m\u001b[0;34m\u001b[0m\u001b[0m\n\u001b[0m",
      "\u001b[0;32m~/Documents/programming/mele_lab/projects/project_template/template_user/dev/test_utils.py\u001b[0m in \u001b[0;36mget_path_map\u001b[0;34m(resources, **kwargs)\u001b[0m\n\u001b[1;32m    170\u001b[0m         \u001b[0mMapping\u001b[0m \u001b[0mof\u001b[0m \u001b[0mplaceholder\u001b[0m \u001b[0mkeys\u001b[0m \u001b[0;34m(\u001b[0m\u001b[0me\u001b[0m\u001b[0;34m.\u001b[0m\u001b[0mg\u001b[0m\u001b[0;34m.\u001b[0m \u001b[0;34m'./{data_dir}'\u001b[0m\u001b[0;34m)\u001b[0m \u001b[0mto\u001b[0m \u001b[0mabsolute\u001b[0m \u001b[0mpath\u001b[0m \u001b[0mstrings\u001b[0m\u001b[0;34m.\u001b[0m\u001b[0;34m\u001b[0m\u001b[0;34m\u001b[0m\u001b[0m\n\u001b[1;32m    171\u001b[0m     \"\"\"\n\u001b[0;32m--> 172\u001b[0;31m     \u001b[0mpaths\u001b[0m \u001b[0;34m=\u001b[0m \u001b[0mload_paths\u001b[0m\u001b[0;34m(\u001b[0m\u001b[0mresources\u001b[0m\u001b[0;34m=\u001b[0m\u001b[0mresources\u001b[0m\u001b[0;34m,\u001b[0m \u001b[0;34m**\u001b[0m\u001b[0mkwargs\u001b[0m\u001b[0;34m)\u001b[0m\u001b[0;34m\u001b[0m\u001b[0;34m\u001b[0m\u001b[0m\n\u001b[0m\u001b[1;32m    173\u001b[0m \u001b[0;34m\u001b[0m\u001b[0m\n\u001b[1;32m    174\u001b[0m     \u001b[0;32mreturn\u001b[0m \u001b[0;34m{\u001b[0m\u001b[0mfmt_path_map_key\u001b[0m\u001b[0;34m(\u001b[0m\u001b[0mk\u001b[0m\u001b[0;34m)\u001b[0m\u001b[0;34m:\u001b[0m \u001b[0mstr\u001b[0m\u001b[0;34m(\u001b[0m\u001b[0mv\u001b[0m\u001b[0;34m)\u001b[0m \u001b[0;32mfor\u001b[0m \u001b[0mk\u001b[0m\u001b[0;34m,\u001b[0m \u001b[0mv\u001b[0m \u001b[0;32min\u001b[0m \u001b[0mpaths\u001b[0m\u001b[0;34m.\u001b[0m\u001b[0mitems\u001b[0m\u001b[0;34m(\u001b[0m\u001b[0;34m)\u001b[0m\u001b[0;34m}\u001b[0m\u001b[0;34m\u001b[0m\u001b[0;34m\u001b[0m\u001b[0m\n",
      "\u001b[0;32m~/Documents/programming/mele_lab/projects/project_template/template_user/dev/test_utils.py\u001b[0m in \u001b[0;36mload_paths\u001b[0;34m(resources, username, mn5_user)\u001b[0m\n\u001b[1;32m    101\u001b[0m     \u001b[0;32mif\u001b[0m \u001b[0musername\u001b[0m \u001b[0;32mnot\u001b[0m \u001b[0;32min\u001b[0m \u001b[0mpath_map\u001b[0m\u001b[0;34m:\u001b[0m\u001b[0;34m\u001b[0m\u001b[0;34m\u001b[0m\u001b[0m\n\u001b[1;32m    102\u001b[0m         raise ValueError(\n\u001b[0;32m--> 103\u001b[0;31m             \u001b[0;34mf\"Username {username} not found in resources. \"\u001b[0m\u001b[0;34m\u001b[0m\u001b[0;34m\u001b[0m\u001b[0m\n\u001b[0m\u001b[1;32m    104\u001b[0m             \u001b[0;34mf\"Available: {list(path_map.keys())}\"\u001b[0m\u001b[0;34m\u001b[0m\u001b[0;34m\u001b[0m\u001b[0m\n\u001b[1;32m    105\u001b[0m         )\n",
      "\u001b[0;31mValueError\u001b[0m: Username samuel joseph morabito not found in resources. Available: ['bscuser1', 'bscuser2', 'localuser1', 'localuser2', 'mn5_user']"
     ]
    }
   ],
   "source": [
    "# let's first try getting a dictionary that auto-reformats the strings\n",
    "# to replace with the nicer ones that we have\n",
    "get_path_map(resources='test_yml_out.yml', username='localuser1') # local user\n",
    "get_path_map(resources='test_yml_out.yml', username='bscuser1') # mn5 user\n",
    "get_path_map(resources='test_yml_out.yml', mn5_user=True) # mn5 generic user\n",
    "get_path_map(resources='test_yml_out.yml', username='samuel joseph morabito')# user that doesn't exist"
   ]
  },
  {
   "cell_type": "code",
   "execution_count": 4,
   "id": "1cde379e-96cf-4a53-a1b8-40f0706b85bb",
   "metadata": {},
   "outputs": [
    {
     "data": {
      "text/plain": [
       "{'data': {'data_dir_file': '/user1/sshfs/projects/Projects/my_test_project/data/some/file',\n",
       "  'data_dir_file2': '/user1/sshfs/projects/Projects/my_test_project/data/some/file_2',\n",
       "  'figures_dir_file': '/user1/sshfs/projects/Projects/my_test_project/figures/my_favorite_plot.pdf',\n",
       "  'metadata_dir_file': '/user1/sshfs/projects/Projects/my_test_project/user1_alias/metadata/biosample_metadata.tsv',\n",
       "  'new_dir_file': '/user1/sshfs/new_dir/some_extra_file_i_need.txt',\n",
       "  'projects_dir_file': '/user1/sshfs/projects/Data/some_file_someone_else_downloaded.fq',\n",
       "  'ref_dir_file': '/user1/sshfs/projects/Projects/my_test_project/ref/hg38.fa',\n",
       "  'scratch_dir_file': '/user1/sshfs/scratch/some/scratch/file.txt'}}"
      ]
     },
     "execution_count": 4,
     "metadata": {},
     "output_type": "execute_result"
    }
   ],
   "source": [
    "# ok, let's make sure that reading the config and replacing the strings will work \n",
    "# get_path_map(config_file='test_yml_out.yml', username='localuser1') # local user\n",
    "load_config(config='test_config.yml', resources='test_yml_out.yml', username='localuser1')"
   ]
  },
  {
   "cell_type": "code",
   "execution_count": null,
   "id": "4e4e398e-2482-44df-93aa-c84ec25d2c66",
   "metadata": {},
   "outputs": [],
   "source": []
  }
 ],
 "metadata": {
  "kernelspec": {
   "display_name": "Python 3",
   "language": "python",
   "name": "python3"
  },
  "language_info": {
   "codemirror_mode": {
    "name": "ipython",
    "version": 3
   },
   "file_extension": ".py",
   "mimetype": "text/x-python",
   "name": "python",
   "nbconvert_exporter": "python",
   "pygments_lexer": "ipython3",
   "version": "3.7.12"
  }
 },
 "nbformat": 4,
 "nbformat_minor": 5
}
