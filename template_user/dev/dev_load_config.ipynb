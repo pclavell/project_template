{
 "cells": [
  {
   "cell_type": "code",
   "execution_count": 1,
   "id": "b8a60cb7-63cb-4498-be25-bec43c6c109d",
   "metadata": {},
   "outputs": [],
   "source": [
    "from pyprojroot.here import here\n",
    "import sys\n",
    "import pandas as pd\n",
    "import pathlib\n",
    "from collections import defaultdict, Counter\n",
    "\n",
    "sys.path.append(str(here()))\n",
    "\n",
    "from resources.utils import *\n",
    "from test_utils import *"
   ]
  },
  {
   "cell_type": "code",
   "execution_count": 2,
   "id": "dcd10467-ceb8-400e-8c6b-b0c069075837",
   "metadata": {},
   "outputs": [],
   "source": [
    "# def load_config(config_file=None,\n",
    "#                 resources_file=None,\n",
    "#                 **kwargs):\n",
    "#     \"\"\"\n",
    "#     Load the project configuration with absolute paths applied.\n",
    "\n",
    "#     This function modifies the entries in the configuration so that any\n",
    "#     file paths become absolute paths according to the system or user-specific\n",
    "#     path mapping.\n",
    "\n",
    "#     Parameters\n",
    "#     ----------\n",
    "#     **kwargs : dict\n",
    "#         Arbitrary keyword arguments passed to `get_path_map` to determine\n",
    "#         the system/user-specific path mapping.\n",
    "\n",
    "#     Returns\n",
    "#     -------\n",
    "#     dict\n",
    "#         Configuration dictionary with absolute paths applied.\n",
    "#     \"\"\"\n",
    "#     config = load_yml(config_file=config_file)\n",
    "#     m = get_path_map(config_file=resources_file, **kwargs)\n",
    "#     config = replace_str_dict(config, m)\n",
    "\n",
    "#     # replace all paths with their absolute pathss\n",
    "#     # to resolve symlinks\n",
    "#     config = resolve_config_symlinks(config)\n",
    "\n",
    "#     return config\n",
    "\n",
    "# def load_paths(config_file=None, username=None, mn5_user=False):\n",
    "#     \"\"\"\n",
    "#     Load the relevant prefixes for paths for the current user.\n",
    "#     Optionally specify which user / config file to read\n",
    "\n",
    "#     Returns\n",
    "#     -------\n",
    "#     dict\n",
    "#         Parsed resources paths as a dictionary.\n",
    "#     \"\"\"\n",
    "#     m = load_resources(config_file)\n",
    "#     if mn5_user: username = 'mn5_user'\n",
    "#     elif not username: username = getpass.getuser()\n",
    "    \n",
    "#     # check if username in the map\n",
    "#     usernames = list(m['path_map'].keys())\n",
    "#     if username not in usernames:\n",
    "#         raise ValueError(f'Username {username} not found in resources.yml. Add before proceeding')\n",
    "#     else:\n",
    "#         return m['path_map'][username]\n",
    "    \n",
    "# # change this if we ever decide we want to use a different\n",
    "# # format for the things in config.yml\n",
    "# def fmt_path_map_key(k):\n",
    "#     return r'./{'+f'{k}'+r'}'\n",
    "\n",
    "# # get path map should\n",
    "# # 1. user load_paths to get user paths\n",
    "# # 2. transform them into the format that is expected (ie ./{data_dir}; \n",
    "# # so that this will be auto-replaced\n",
    "# def get_path_map(**kwargs):\n",
    "#     \"\"\"\n",
    "#     Return dictionary of strings to be replaced \n",
    "#     \"\"\"\n",
    "#     paths = load_paths(**kwargs)\n",
    "\n",
    "#     # transform each dir key into format that is expected by config\n",
    "#     paths = dict([(fmt_path_map_key(k), i) for k,i in paths.items()])\n",
    "\n",
    "#     return paths"
   ]
  },
  {
   "cell_type": "code",
   "execution_count": 3,
   "id": "95767a8e-ae1f-4370-9a0e-47dce48bf7dd",
   "metadata": {},
   "outputs": [
    {
     "ename": "NameError",
     "evalue": "name 'load_resources' is not defined",
     "output_type": "error",
     "traceback": [
      "\u001b[0;31m---------------------------------------------------------------------------\u001b[0m",
      "\u001b[0;31mNameError\u001b[0m                                 Traceback (most recent call last)",
      "\u001b[0;32m<ipython-input-3-3f266c2fb6f1>\u001b[0m in \u001b[0;36m<module>\u001b[0;34m\u001b[0m\n\u001b[1;32m      1\u001b[0m \u001b[0;31m# let's first try getting a dictionary that auto-reformats the strings\u001b[0m\u001b[0;34m\u001b[0m\u001b[0;34m\u001b[0m\u001b[0;34m\u001b[0m\u001b[0m\n\u001b[1;32m      2\u001b[0m \u001b[0;31m# to replace with the nicer ones that we have\u001b[0m\u001b[0;34m\u001b[0m\u001b[0;34m\u001b[0m\u001b[0;34m\u001b[0m\u001b[0m\n\u001b[0;32m----> 3\u001b[0;31m \u001b[0mget_path_map\u001b[0m\u001b[0;34m(\u001b[0m\u001b[0mconfig_file\u001b[0m\u001b[0;34m=\u001b[0m\u001b[0;34m'test_yml_out.yml'\u001b[0m\u001b[0;34m,\u001b[0m \u001b[0musername\u001b[0m\u001b[0;34m=\u001b[0m\u001b[0;34m'localuser1'\u001b[0m\u001b[0;34m)\u001b[0m \u001b[0;31m# local user\u001b[0m\u001b[0;34m\u001b[0m\u001b[0;34m\u001b[0m\u001b[0m\n\u001b[0m\u001b[1;32m      4\u001b[0m \u001b[0mget_path_map\u001b[0m\u001b[0;34m(\u001b[0m\u001b[0mconfig_file\u001b[0m\u001b[0;34m=\u001b[0m\u001b[0;34m'test_yml_out.yml'\u001b[0m\u001b[0;34m,\u001b[0m \u001b[0musername\u001b[0m\u001b[0;34m=\u001b[0m\u001b[0;34m'bscuser1'\u001b[0m\u001b[0;34m)\u001b[0m \u001b[0;31m# mn5 user\u001b[0m\u001b[0;34m\u001b[0m\u001b[0;34m\u001b[0m\u001b[0m\n\u001b[1;32m      5\u001b[0m \u001b[0mget_path_map\u001b[0m\u001b[0;34m(\u001b[0m\u001b[0mconfig_file\u001b[0m\u001b[0;34m=\u001b[0m\u001b[0;34m'test_yml_out.yml'\u001b[0m\u001b[0;34m,\u001b[0m \u001b[0mmn5_user\u001b[0m\u001b[0;34m=\u001b[0m\u001b[0;32mTrue\u001b[0m\u001b[0;34m)\u001b[0m \u001b[0;31m# mn5 generic user\u001b[0m\u001b[0;34m\u001b[0m\u001b[0;34m\u001b[0m\u001b[0m\n",
      "\u001b[0;32m~/Documents/programming/mele_lab/projects/project_template/template_user/dev/test_utils.py\u001b[0m in \u001b[0;36mget_path_map\u001b[0;34m(**kwargs)\u001b[0m\n\u001b[1;32m    168\u001b[0m     \u001b[0mReturn\u001b[0m \u001b[0mdictionary\u001b[0m \u001b[0mof\u001b[0m \u001b[0mstrings\u001b[0m \u001b[0mto\u001b[0m \u001b[0mbe\u001b[0m \u001b[0mreplaced\u001b[0m\u001b[0;34m\u001b[0m\u001b[0;34m\u001b[0m\u001b[0m\n\u001b[1;32m    169\u001b[0m     \"\"\"\n\u001b[0;32m--> 170\u001b[0;31m     \u001b[0mpaths\u001b[0m \u001b[0;34m=\u001b[0m \u001b[0mload_paths\u001b[0m\u001b[0;34m(\u001b[0m\u001b[0;34m**\u001b[0m\u001b[0mkwargs\u001b[0m\u001b[0;34m)\u001b[0m\u001b[0;34m\u001b[0m\u001b[0;34m\u001b[0m\u001b[0m\n\u001b[0m\u001b[1;32m    171\u001b[0m \u001b[0;34m\u001b[0m\u001b[0m\n\u001b[1;32m    172\u001b[0m     \u001b[0;31m# transform each dir key into format that is expected by config\u001b[0m\u001b[0;34m\u001b[0m\u001b[0;34m\u001b[0m\u001b[0;34m\u001b[0m\u001b[0m\n",
      "\u001b[0;32m~/Documents/programming/mele_lab/projects/project_template/template_user/dev/test_utils.py\u001b[0m in \u001b[0;36mload_paths\u001b[0;34m(config_file, username, mn5_user)\u001b[0m\n\u001b[1;32m    144\u001b[0m         \u001b[0mParsed\u001b[0m \u001b[0mresources\u001b[0m \u001b[0mpaths\u001b[0m \u001b[0;32mas\u001b[0m \u001b[0ma\u001b[0m \u001b[0mdictionary\u001b[0m\u001b[0;34m.\u001b[0m\u001b[0;34m\u001b[0m\u001b[0;34m\u001b[0m\u001b[0m\n\u001b[1;32m    145\u001b[0m     \"\"\"\n\u001b[0;32m--> 146\u001b[0;31m     \u001b[0mm\u001b[0m \u001b[0;34m=\u001b[0m \u001b[0mload_resources\u001b[0m\u001b[0;34m(\u001b[0m\u001b[0mconfig_file\u001b[0m\u001b[0;34m)\u001b[0m\u001b[0;34m\u001b[0m\u001b[0;34m\u001b[0m\u001b[0m\n\u001b[0m\u001b[1;32m    147\u001b[0m     \u001b[0;32mif\u001b[0m \u001b[0mmn5_user\u001b[0m\u001b[0;34m:\u001b[0m \u001b[0musername\u001b[0m \u001b[0;34m=\u001b[0m \u001b[0;34m'mn5_user'\u001b[0m\u001b[0;34m\u001b[0m\u001b[0;34m\u001b[0m\u001b[0m\n\u001b[1;32m    148\u001b[0m     \u001b[0;32melif\u001b[0m \u001b[0;32mnot\u001b[0m \u001b[0musername\u001b[0m\u001b[0;34m:\u001b[0m \u001b[0musername\u001b[0m \u001b[0;34m=\u001b[0m \u001b[0mgetpass\u001b[0m\u001b[0;34m.\u001b[0m\u001b[0mgetuser\u001b[0m\u001b[0;34m(\u001b[0m\u001b[0;34m)\u001b[0m\u001b[0;34m\u001b[0m\u001b[0;34m\u001b[0m\u001b[0m\n",
      "\u001b[0;31mNameError\u001b[0m: name 'load_resources' is not defined"
     ]
    }
   ],
   "source": [
    "# let's first try getting a dictionary that auto-reformats the strings\n",
    "# to replace with the nicer ones that we have\n",
    "get_path_map(config_file='test_yml_out.yml', username='localuser1') # local user\n",
    "get_path_map(config_file='test_yml_out.yml', username='bscuser1') # mn5 user\n",
    "get_path_map(config_file='test_yml_out.yml', mn5_user=True) # mn5 generic user\n",
    "get_path_map(config_file='test_yml_out.yml', username='samuel joseph morabito')# user that doesn't exist"
   ]
  },
  {
   "cell_type": "code",
   "execution_count": null,
   "id": "5cbf1d11-6bd3-4a78-9fc3-d4eed5f47e47",
   "metadata": {},
   "outputs": [],
   "source": []
  },
  {
   "cell_type": "code",
   "execution_count": 4,
   "id": "1cde379e-96cf-4a53-a1b8-40f0706b85bb",
   "metadata": {},
   "outputs": [
    {
     "ename": "NameError",
     "evalue": "name 'load_yml' is not defined",
     "output_type": "error",
     "traceback": [
      "\u001b[0;31m---------------------------------------------------------------------------\u001b[0m",
      "\u001b[0;31mNameError\u001b[0m                                 Traceback (most recent call last)",
      "\u001b[0;32m<ipython-input-4-57ef377c4585>\u001b[0m in \u001b[0;36m<module>\u001b[0;34m\u001b[0m\n\u001b[1;32m      1\u001b[0m \u001b[0;31m# ok, let's make sure that reading the config and replacing the strings will work\u001b[0m\u001b[0;34m\u001b[0m\u001b[0;34m\u001b[0m\u001b[0;34m\u001b[0m\u001b[0m\n\u001b[1;32m      2\u001b[0m \u001b[0;31m# get_path_map(config_file='test_yml_out.yml', username='localuser1') # local user\u001b[0m\u001b[0;34m\u001b[0m\u001b[0;34m\u001b[0m\u001b[0;34m\u001b[0m\u001b[0m\n\u001b[0;32m----> 3\u001b[0;31m \u001b[0mload_config\u001b[0m\u001b[0;34m(\u001b[0m\u001b[0mconfig_file\u001b[0m\u001b[0;34m=\u001b[0m\u001b[0;34m'test_config.yml'\u001b[0m\u001b[0;34m,\u001b[0m \u001b[0mresources_file\u001b[0m\u001b[0;34m=\u001b[0m\u001b[0;34m'test_yml_out.yml'\u001b[0m\u001b[0;34m,\u001b[0m \u001b[0musername\u001b[0m\u001b[0;34m=\u001b[0m\u001b[0;34m'localuser1'\u001b[0m\u001b[0;34m)\u001b[0m\u001b[0;34m\u001b[0m\u001b[0;34m\u001b[0m\u001b[0m\n\u001b[0m",
      "\u001b[0;32m~/Documents/programming/mele_lab/projects/project_template/template_user/dev/test_utils.py\u001b[0m in \u001b[0;36mload_config\u001b[0;34m(config_file, resources_file, **kwargs)\u001b[0m\n\u001b[1;32m    124\u001b[0m         \u001b[0mConfiguration\u001b[0m \u001b[0mdictionary\u001b[0m \u001b[0;32mwith\u001b[0m \u001b[0mabsolute\u001b[0m \u001b[0mpaths\u001b[0m \u001b[0mapplied\u001b[0m\u001b[0;34m.\u001b[0m\u001b[0;34m\u001b[0m\u001b[0;34m\u001b[0m\u001b[0m\n\u001b[1;32m    125\u001b[0m     \"\"\"\n\u001b[0;32m--> 126\u001b[0;31m     \u001b[0mconfig\u001b[0m \u001b[0;34m=\u001b[0m \u001b[0mload_yml\u001b[0m\u001b[0;34m(\u001b[0m\u001b[0mconfig_file\u001b[0m\u001b[0;34m=\u001b[0m\u001b[0mconfig_file\u001b[0m\u001b[0;34m)\u001b[0m\u001b[0;34m\u001b[0m\u001b[0;34m\u001b[0m\u001b[0m\n\u001b[0m\u001b[1;32m    127\u001b[0m     \u001b[0mm\u001b[0m \u001b[0;34m=\u001b[0m \u001b[0mget_path_map\u001b[0m\u001b[0;34m(\u001b[0m\u001b[0mconfig_file\u001b[0m\u001b[0;34m=\u001b[0m\u001b[0mresources_file\u001b[0m\u001b[0;34m,\u001b[0m \u001b[0;34m**\u001b[0m\u001b[0mkwargs\u001b[0m\u001b[0;34m)\u001b[0m\u001b[0;34m\u001b[0m\u001b[0;34m\u001b[0m\u001b[0m\n\u001b[1;32m    128\u001b[0m     \u001b[0mconfig\u001b[0m \u001b[0;34m=\u001b[0m \u001b[0mreplace_str_dict\u001b[0m\u001b[0;34m(\u001b[0m\u001b[0mconfig\u001b[0m\u001b[0;34m,\u001b[0m \u001b[0mm\u001b[0m\u001b[0;34m)\u001b[0m\u001b[0;34m\u001b[0m\u001b[0;34m\u001b[0m\u001b[0m\n",
      "\u001b[0;31mNameError\u001b[0m: name 'load_yml' is not defined"
     ]
    }
   ],
   "source": [
    "# ok, let's make sure that reading the config and replacing the strings will work \n",
    "# get_path_map(config_file='test_yml_out.yml', username='localuser1') # local user\n",
    "load_config(config_file='test_config.yml', resources_file='test_yml_out.yml', username='localuser1')"
   ]
  },
  {
   "cell_type": "code",
   "execution_count": null,
   "id": "4e4e398e-2482-44df-93aa-c84ec25d2c66",
   "metadata": {},
   "outputs": [],
   "source": []
  }
 ],
 "metadata": {
  "kernelspec": {
   "display_name": "Python 3",
   "language": "python",
   "name": "python3"
  },
  "language_info": {
   "codemirror_mode": {
    "name": "ipython",
    "version": 3
   },
   "file_extension": ".py",
   "mimetype": "text/x-python",
   "name": "python",
   "nbconvert_exporter": "python",
   "pygments_lexer": "ipython3",
   "version": "3.7.12"
  }
 },
 "nbformat": 4,
 "nbformat_minor": 5
}
