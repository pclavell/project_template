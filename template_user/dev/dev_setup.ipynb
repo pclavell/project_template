{
 "cells": [
  {
   "cell_type": "code",
   "execution_count": 1,
   "id": "efdcd505-a2e2-4cc9-a6a7-2c09b48fc17e",
   "metadata": {},
   "outputs": [],
   "source": [
    "from pyprojroot.here import here\n",
    "import sys\n",
    "import pandas as pd\n",
    "import pathlib\n",
    "from collections import defaultdict, Counter\n",
    "import copy\n",
    "\n",
    "sys.path.append(str(here()))\n",
    "\n",
    "from resources.utils import *\n",
    "from test_utils import *"
   ]
  },
  {
   "cell_type": "code",
   "execution_count": 4,
   "id": "a15e7235-fb32-4cba-a9b5-c5e370d82f2c",
   "metadata": {},
   "outputs": [],
   "source": [
    "def main(dry_run=True,\n",
    "         resources=None,\n",
    "         output_resources='template_user/resources/resources.yml'):\n",
    "    \"\"\"\n",
    "    Generate resources.yml with path_map and user list.\n",
    "    Copies template_user dir for each user.\n",
    "    Supports dry-run mode for safe testing.\n",
    "\n",
    "    Parameters\n",
    "    ----------\n",
    "    dry_run : bool\n",
    "        If True, no destructive operations are performed; operations are logged.\n",
    "    resources : dict | str | None\n",
    "        Path to resources.yml or a pre-loaded dict.\n",
    "    output_config : str | Path | None\n",
    "        Path to write the generated resources.yml. Defaults to\n",
    "        'template_user/resources/resources.yml'.\n",
    "    \"\"\"\n",
    "    \n",
    "    m = load_yml(resources)\n",
    "    \n",
    "    # make sure project name has been changed\n",
    "    proj_name = m['setup_settings']['project_name']\n",
    "    verify_proj_name(proj_name)\n",
    "    \n",
    "    # make sure usernames are unique\n",
    "    usernames = [i2['username']\n",
    "        for _, i in m['setup_settings']['users'].items()\n",
    "        for _, i2 in i.items()]    \n",
    "    check_setup_usernames(usernames)\n",
    "    \n",
    "    # destructive operations\n",
    "    safe_run(\"rm -rf .git\", dry_run=dry_run)\n",
    "    safe_run(f\"mv ../project_template ../{proj_name}\", dry_run=dry_run)\n",
    "\n",
    "    path_map = generate_path_map(m['setup_settings'], proj_name)\n",
    "    \n",
    "    # also add a users list\n",
    "    users_list = {'users': list(m['setup_settings']['users'].keys())}\n",
    "    \n",
    "    # new user's folder\n",
    "    dest = Path(user_alias)\n",
    "\n",
    "    # write path map and users to resources.yml\n",
    "    if dry_run:\n",
    "        # return the generated data for testing\n",
    "        print(f\"[DRY-RUN] Would append YAML to {output_resources}\")\n",
    "        return {'path_map': path_map, 'users': users_list}\n",
    "        print(f\"[DRY-RUN] Would copy {curr_user_dir} -> {new_user_dir}\")\n",
    "    \n",
    "    else:\n",
    "        with Path(output_resources).open('a') as f:\n",
    "            yaml.dump({'path_map': path_map}, f, default_flow_style=False)\n",
    "            yaml.dump(users_list, f, default_flow_style=False)\n",
    "\n",
    "        # copy template_user for each user\n",
    "        for user_alias in m['setup_settings']['users']:\n",
    "            shutil.copytree(\"template_user\", dest, dirs_exist_ok=True)\n",
    "\n",
    "        return None"
   ]
  },
  {
   "cell_type": "code",
   "execution_count": 5,
   "id": "50cfb8db-b349-4b77-ac21-1f29ce9e1d11",
   "metadata": {},
   "outputs": [
    {
     "name": "stdout",
     "output_type": "stream",
     "text": [
      "[DRY-RUN] Would execute: rm -rf .git\n",
      "[DRY-RUN] Would execute: mv ../project_template ../my_test_project\n",
      "[DRY-RUN] Would write YAML to test_yml_out.yml\n"
     ]
    }
   ],
   "source": [
    "m = main(dry_run=True, \n",
    "         resources='test_yml.yml',\n",
    "        output_resources='test_yml_out.yml')"
   ]
  },
  {
   "cell_type": "code",
   "execution_count": 6,
   "id": "2c91c988-0226-4d21-8693-c32ee9a6ddff",
   "metadata": {},
   "outputs": [
    {
     "data": {
      "text/plain": [
       "{'path_map': {'bscuser1': {'new_dir': '/new/mn5/dir/user1',\n",
       "   'projects_dir': '/gpfs/projects/bsc83',\n",
       "   'scratch_dir': '/gpfs/scratch/bsc83',\n",
       "   'data_dir': '/gpfs/projects/bsc83/Projects/my_test_project/data',\n",
       "   'ref_dir': '/gpfs/projects/bsc83/Projects/my_test_project/ref',\n",
       "   'figures_dir': '/gpfs/projects/bsc83/Projects/my_test_project/figures',\n",
       "   'metadata_dir': '/gpfs/projects/bsc83/Projects/my_test_project/user1_alias/metadata'},\n",
       "  'mn5_user': {'new_dir': '/new/mn5/dir/user1',\n",
       "   'projects_dir': '/gpfs/projects/bsc83',\n",
       "   'scratch_dir': '/gpfs/scratch/bsc83',\n",
       "   'data_dir': '/gpfs/projects/bsc83/Projects/my_test_project/data',\n",
       "   'ref_dir': '/gpfs/projects/bsc83/Projects/my_test_project/ref',\n",
       "   'figures_dir': '/gpfs/projects/bsc83/Projects/my_test_project/figures',\n",
       "   'metadata_dir': '/gpfs/projects/bsc83/Projects/my_test_project/user2_alias/metadata'},\n",
       "  'localuser1': {'scratch_dir': '/user1/sshfs/scratch',\n",
       "   'projects_dir': '/user1/sshfs/projects',\n",
       "   'new_dir': '/user1/sshfs/new_dir',\n",
       "   'data_dir': '/user1/sshfs/projects/my_test_project/data',\n",
       "   'ref_dir': '/user1/sshfs/projects/my_test_project/ref',\n",
       "   'figures_dir': '/user1/sshfs/projects/my_test_project/figures',\n",
       "   'metadata_dir': '/user1/sshfs/projects/my_test_project/user1_alias/metadata'},\n",
       "  'bscuser2': {'new_dir': '/new/mn5/dir/user1',\n",
       "   'projects_dir': '/gpfs/projects/bsc83',\n",
       "   'scratch_dir': '/gpfs/scratch/bsc83',\n",
       "   'data_dir': '/gpfs/projects/bsc83/Projects/my_test_project/data',\n",
       "   'ref_dir': '/gpfs/projects/bsc83/Projects/my_test_project/ref',\n",
       "   'figures_dir': '/gpfs/projects/bsc83/Projects/my_test_project/figures',\n",
       "   'metadata_dir': '/gpfs/projects/bsc83/Projects/my_test_project/user2_alias/metadata'},\n",
       "  'localuser2': {'scratch_dir': '/user2/mounts/scratch',\n",
       "   'projects_dir': '/user2/mounts/projects',\n",
       "   'new_dir': '/user2/sshfs/new_dir',\n",
       "   'data_dir': '/user2/mounts/projects/my_test_project/data',\n",
       "   'ref_dir': '/user2/mounts/projects/my_test_project/ref',\n",
       "   'figures_dir': '/user2/mounts/projects/my_test_project/figures',\n",
       "   'metadata_dir': '/user2/mounts/projects/my_test_project/user2_alias/metadata'}},\n",
       " 'users': {'users': ['user1_alias', 'user2_alias']}}"
      ]
     },
     "execution_count": 6,
     "metadata": {},
     "output_type": "execute_result"
    }
   ],
   "source": [
    "m"
   ]
  },
  {
   "cell_type": "code",
   "execution_count": null,
   "id": "83ed9cf7-7949-4506-8e8c-90312aeacd5f",
   "metadata": {},
   "outputs": [],
   "source": []
  }
 ],
 "metadata": {
  "kernelspec": {
   "display_name": "Python 3",
   "language": "python",
   "name": "python3"
  },
  "language_info": {
   "codemirror_mode": {
    "name": "ipython",
    "version": 3
   },
   "file_extension": ".py",
   "mimetype": "text/x-python",
   "name": "python",
   "nbconvert_exporter": "python",
   "pygments_lexer": "ipython3",
   "version": "3.7.12"
  }
 },
 "nbformat": 4,
 "nbformat_minor": 5
}
