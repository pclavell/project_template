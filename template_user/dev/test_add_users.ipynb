{
 "cells": [
  {
   "cell_type": "code",
   "execution_count": 2,
   "id": "ed21e546-8e04-43bd-b4d8-bf4f6abc8a7a",
   "metadata": {},
   "outputs": [],
   "source": [
    "from pyprojroot.here import here\n",
    "import sys\n",
    "import pandas as pd\n",
    "import pathlib\n",
    "from collections import defaultdict, Counter\n",
    "import copy\n",
    "\n",
    "sys.path.append(str(here()))\n",
    "\n",
    "from resources.add_new_users import main"
   ]
  },
  {
   "cell_type": "code",
   "execution_count": 4,
   "id": "362764e9-f8c1-405b-a273-f751979d3289",
   "metadata": {},
   "outputs": [
    {
     "name": "stdout",
     "output_type": "stream",
     "text": [
      "[DRY-RUN] Would execute: git remote show origin | sed -n '/HEAD branch/s/.*: //p'\n",
      "[DRY-RUN] Would overwrite YAML to /my_test/test/user1_alias/resources/resources.yml\n",
      "[DRY-RUN] Would overwrite YAML to /my_test/test/user2_alias/resources/resources.yml\n",
      "[DRY-RUN] Would copy /my_test/test/user1_alias -> /my_test/test/new_user_alias\n",
      "[DRY-RUN] Would execute: git fetch origin\n",
      "[DRY-RUN] Would execute: git reset --hard origin/main\n",
      "[DRY-RUN] Would execute: git checkout main\n"
     ]
    }
   ],
   "source": [
    "m = main(dry_run=True, \n",
    "         user_dir='/my_test/test/user1_alias/',\n",
    "         resources='../dev/test_resources_post_setup.yml')"
   ]
  },
  {
   "cell_type": "code",
   "execution_count": null,
   "id": "84669731-78d3-4469-8cb4-682bf823c76a",
   "metadata": {},
   "outputs": [],
   "source": []
  }
 ],
 "metadata": {
  "kernelspec": {
   "display_name": "Python 3",
   "language": "python",
   "name": "python3"
  },
  "language_info": {
   "codemirror_mode": {
    "name": "ipython",
    "version": 3
   },
   "file_extension": ".py",
   "mimetype": "text/x-python",
   "name": "python",
   "nbconvert_exporter": "python",
   "pygments_lexer": "ipython3",
   "version": "3.7.12"
  }
 },
 "nbformat": 4,
 "nbformat_minor": 5
}
