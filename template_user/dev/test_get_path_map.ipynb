{
 "cells": [
  {
   "cell_type": "markdown",
   "id": "9171ac5b-1551-447b-84ab-715445646cec",
   "metadata": {},
   "source": [
    "## Goal: remove the dang extra entries other than path_map"
   ]
  },
  {
   "cell_type": "code",
   "execution_count": 1,
   "id": "3715504a-b439-4ebd-b3b6-58338f1fbd95",
   "metadata": {},
   "outputs": [],
   "source": [
    "from pyprojroot.here import here\n",
    "import sys\n",
    "import pandas as pd\n",
    "\n",
    "sys.path.append(str(here()))\n",
    "\n",
    "from resources.utils import *"
   ]
  },
  {
   "cell_type": "code",
   "execution_count": 2,
   "id": "09399f8f-6972-411d-a711-3fb134feb40c",
   "metadata": {},
   "outputs": [],
   "source": [
    "m = load_paths('test_yml.yml', username='user1')"
   ]
  },
  {
   "cell_type": "code",
   "execution_count": 4,
   "id": "e2a16940-068d-4adb-a32c-547abc5f0673",
   "metadata": {},
   "outputs": [
    {
     "data": {
      "text/plain": [
       "{'scratch_dir': '/user1/sshfs/scratch/',\n",
       " 'projects_dir': '/user1/sshfs/projects/',\n",
       " 'data_dir': '/user1/project_name/data/',\n",
       " 'metadata_dir': '/user1/project_name/user1/metadata/',\n",
       " 'figures_dir': '/user1/project_name/figures/',\n",
       " 'ref_dir': '/user1/project_name/ref/'}"
      ]
     },
     "execution_count": 4,
     "metadata": {},
     "output_type": "execute_result"
    }
   ],
   "source": [
    "m"
   ]
  },
  {
   "cell_type": "code",
   "execution_count": null,
   "id": "701f741f-8223-4f3a-8532-564f2886d626",
   "metadata": {},
   "outputs": [],
   "source": []
  }
 ],
 "metadata": {
  "kernelspec": {
   "display_name": "Python 3",
   "language": "python",
   "name": "python3"
  },
  "language_info": {
   "codemirror_mode": {
    "name": "ipython",
    "version": 3
   },
   "file_extension": ".py",
   "mimetype": "text/x-python",
   "name": "python",
   "nbconvert_exporter": "python",
   "pygments_lexer": "ipython3",
   "version": "3.7.12"
  }
 },
 "nbformat": 4,
 "nbformat_minor": 5
}
