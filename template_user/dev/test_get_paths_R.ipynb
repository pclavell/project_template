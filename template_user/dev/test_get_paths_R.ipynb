{
 "cells": [
  {
   "cell_type": "code",
   "execution_count": 2,
   "id": "8987ee14-d240-43e3-b3bc-3261c271e120",
   "metadata": {},
   "outputs": [],
   "source": [
    "# HEADER -----------------------------------------------------------------------\n",
    "script_dir <- normalizePath(dirname(ifelse(interactive(),rstudioapi::getActiveDocumentContext()$path,\n",
    "                                           gsub(\"--file=\",\"\", commandArgs(trailingOnly = F)[4]))))\n",
    "script_dir <- normalizePath(ifelse(script_dir == \"IRkernel::main()\",getwd(), script_dir))\n",
    "library(here)\n",
    "source(here(\"resources\", \"utils.r\")) # here referes to where .here file sits (in the user dir)\n",
    "library(yaml)\n"
   ]
  },
  {
   "cell_type": "code",
   "execution_count": 4,
   "id": "a36cabe6-d436-4f41-95fc-1d348c176298",
   "metadata": {},
   "outputs": [],
   "source": [
    "resources_yml = yaml::read_yaml(\"test_yml.yml\")\n",
    "username = 'user1'\n",
    "resources = resources_yml[['path_map']][[username]]"
   ]
  },
  {
   "cell_type": "code",
   "execution_count": 5,
   "id": "68a20f20-cfc0-4ea2-b6dd-13d16de180da",
   "metadata": {},
   "outputs": [
    {
     "data": {
      "text/html": [
       "<dl>\n",
       "\t<dt>$scratch_dir</dt>\n",
       "\t\t<dd>'/user1/sshfs/scratch/'</dd>\n",
       "\t<dt>$projects_dir</dt>\n",
       "\t\t<dd>'/user1/sshfs/projects/'</dd>\n",
       "\t<dt>$data_dir</dt>\n",
       "\t\t<dd>'/user1/project_name/data/'</dd>\n",
       "\t<dt>$metadata_dir</dt>\n",
       "\t\t<dd>'/user1/project_name/user1/metadata/'</dd>\n",
       "\t<dt>$figures_dir</dt>\n",
       "\t\t<dd>'/user1/project_name/figures/'</dd>\n",
       "\t<dt>$ref_dir</dt>\n",
       "\t\t<dd>'/user1/project_name/ref/'</dd>\n",
       "</dl>\n"
      ],
      "text/latex": [
       "\\begin{description}\n",
       "\\item[\\$scratch\\_dir] '/user1/sshfs/scratch/'\n",
       "\\item[\\$projects\\_dir] '/user1/sshfs/projects/'\n",
       "\\item[\\$data\\_dir] '/user1/project\\_name/data/'\n",
       "\\item[\\$metadata\\_dir] '/user1/project\\_name/user1/metadata/'\n",
       "\\item[\\$figures\\_dir] '/user1/project\\_name/figures/'\n",
       "\\item[\\$ref\\_dir] '/user1/project\\_name/ref/'\n",
       "\\end{description}\n"
      ],
      "text/markdown": [
       "$scratch_dir\n",
       ":   '/user1/sshfs/scratch/'\n",
       "$projects_dir\n",
       ":   '/user1/sshfs/projects/'\n",
       "$data_dir\n",
       ":   '/user1/project_name/data/'\n",
       "$metadata_dir\n",
       ":   '/user1/project_name/user1/metadata/'\n",
       "$figures_dir\n",
       ":   '/user1/project_name/figures/'\n",
       "$ref_dir\n",
       ":   '/user1/project_name/ref/'\n",
       "\n",
       "\n"
      ],
      "text/plain": [
       "$scratch_dir\n",
       "[1] \"/user1/sshfs/scratch/\"\n",
       "\n",
       "$projects_dir\n",
       "[1] \"/user1/sshfs/projects/\"\n",
       "\n",
       "$data_dir\n",
       "[1] \"/user1/project_name/data/\"\n",
       "\n",
       "$metadata_dir\n",
       "[1] \"/user1/project_name/user1/metadata/\"\n",
       "\n",
       "$figures_dir\n",
       "[1] \"/user1/project_name/figures/\"\n",
       "\n",
       "$ref_dir\n",
       "[1] \"/user1/project_name/ref/\"\n"
      ]
     },
     "metadata": {},
     "output_type": "display_data"
    }
   ],
   "source": [
    "resources"
   ]
  },
  {
   "cell_type": "code",
   "execution_count": null,
   "id": "3dc1cb1f-fd07-4fc0-8412-603c6b2efc0e",
   "metadata": {},
   "outputs": [],
   "source": []
  }
 ],
 "metadata": {
  "kernelspec": {
   "display_name": "R",
   "language": "R",
   "name": "ir"
  },
  "language_info": {
   "codemirror_mode": "r",
   "file_extension": ".r",
   "mimetype": "text/x-r-source",
   "name": "R",
   "pygments_lexer": "r",
   "version": "4.4.1"
  }
 },
 "nbformat": 4,
 "nbformat_minor": 5
}
