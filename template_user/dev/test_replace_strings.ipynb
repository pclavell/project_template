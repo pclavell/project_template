{
 "cells": [
  {
   "cell_type": "markdown",
   "id": "42b31d8b-2d13-4683-b3b1-cda32d391815",
   "metadata": {},
   "source": [
    "## Goal: move ugly \\{data_dir\\} --> {{data_dir}}"
   ]
  },
  {
   "cell_type": "code",
   "execution_count": 12,
   "id": "e09e221a-b8b9-4aa5-87b9-d11de11ad0f9",
   "metadata": {},
   "outputs": [],
   "source": [
    "from pyprojroot.here import here\n",
    "import sys\n",
    "import pandas as pd\n",
    "\n",
    "sys.path.append(str(here()))\n",
    "\n",
    "from resources.utils import *"
   ]
  },
  {
   "cell_type": "code",
   "execution_count": 13,
   "id": "dc7cf2f6-239a-4efe-bc2f-495302cf2aa0",
   "metadata": {},
   "outputs": [],
   "source": [
    "m = load_yml('test_yml.yml')"
   ]
  },
  {
   "cell_type": "code",
   "execution_count": 14,
   "id": "8690d5f8-5898-410c-ae2c-c7ee889edca6",
   "metadata": {},
   "outputs": [
    {
     "data": {
      "text/plain": [
       "{'entry': {'file1': '{data_dir}/some/file',\n",
       "  'file2': './{data_dir}/some/file',\n",
       "  'file3': '{{data_dir}}/some/file',\n",
       "  'file4': './{{data_dir}}/some/file'}}"
      ]
     },
     "execution_count": 14,
     "metadata": {},
     "output_type": "execute_result"
    }
   ],
   "source": [
    "m"
   ]
  },
  {
   "cell_type": "code",
   "execution_count": null,
   "id": "ca38b46a-7284-4e11-adb6-1e16f7b70aa5",
   "metadata": {},
   "outputs": [],
   "source": []
  }
 ],
 "metadata": {
  "kernelspec": {
   "display_name": "Python 3",
   "language": "python",
   "name": "python3"
  },
  "language_info": {
   "codemirror_mode": {
    "name": "ipython",
    "version": 3
   },
   "file_extension": ".py",
   "mimetype": "text/x-python",
   "name": "python",
   "nbconvert_exporter": "python",
   "pygments_lexer": "ipython3",
   "version": "3.7.12"
  }
 },
 "nbformat": 4,
 "nbformat_minor": 5
}
