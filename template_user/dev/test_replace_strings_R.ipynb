{
 "cells": [
  {
   "cell_type": "code",
   "execution_count": 1,
   "id": "f1d0983d-e952-4fb9-a0a9-6e006cf99513",
   "metadata": {},
   "outputs": [
    {
     "name": "stderr",
     "output_type": "stream",
     "text": [
      "here() starts at /Users/fairliereese/Documents/programming/mele_lab/projects/project_template/template_user\n",
      "\n"
     ]
    }
   ],
   "source": [
    "# HEADER -----------------------------------------------------------------------\n",
    "script_dir <- normalizePath(dirname(ifelse(interactive(),rstudioapi::getActiveDocumentContext()$path,\n",
    "                                           gsub(\"--file=\",\"\", commandArgs(trailingOnly = F)[4]))))\n",
    "script_dir <- normalizePath(ifelse(script_dir == \"IRkernel::main()\",getwd(), script_dir))\n",
    "library(here)\n",
    "source(here(\"resources\", \"utils.r\")) # here referes to where .here file sits (in the user dir)"
   ]
  },
  {
   "cell_type": "code",
   "execution_count": 2,
   "id": "40993376-401a-4599-9f3e-77ec592a8bc0",
   "metadata": {},
   "outputs": [],
   "source": [
    "config_file <-yaml::read_yaml(\"test_yml.yml\",  readLines.warn=FALSE)"
   ]
  },
  {
   "cell_type": "code",
   "execution_count": 3,
   "id": "431e5651-9311-4849-8644-c4be79020874",
   "metadata": {},
   "outputs": [
    {
     "data": {
      "text/html": [
       "'/Users/fairliereese/Documents/programming/mele_lab/projects/project_template/template_user/dev'"
      ],
      "text/latex": [
       "'/Users/fairliereese/Documents/programming/mele\\_lab/projects/project\\_template/template\\_user/dev'"
      ],
      "text/markdown": [
       "'/Users/fairliereese/Documents/programming/mele_lab/projects/project_template/template_user/dev'"
      ],
      "text/plain": [
       "[1] \"/Users/fairliereese/Documents/programming/mele_lab/projects/project_template/template_user/dev\""
      ]
     },
     "metadata": {},
     "output_type": "display_data"
    }
   ],
   "source": [
    "script_dir"
   ]
  },
  {
   "cell_type": "code",
   "execution_count": 4,
   "id": "a05e0ec2-70fa-4540-b198-d8604ec53098",
   "metadata": {},
   "outputs": [
    {
     "data": {
      "text/html": [
       "<strong>$entry</strong> = <dl>\n",
       "\t<dt>$file1</dt>\n",
       "\t\t<dd>'{data_dir}/some/file'</dd>\n",
       "\t<dt>$file2</dt>\n",
       "\t\t<dd>'./{data_dir}/some/file'</dd>\n",
       "\t<dt>$file3</dt>\n",
       "\t\t<dd>'{{data_dir}}/some/file'</dd>\n",
       "\t<dt>$file4</dt>\n",
       "\t\t<dd>'./{{data_dir}}/some/file'</dd>\n",
       "</dl>\n"
      ],
      "text/latex": [
       "\\textbf{\\$entry} = \\begin{description}\n",
       "\\item[\\$file1] '\\{data\\_dir\\}/some/file'\n",
       "\\item[\\$file2] './\\{data\\_dir\\}/some/file'\n",
       "\\item[\\$file3] '\\{\\{data\\_dir\\}\\}/some/file'\n",
       "\\item[\\$file4] './\\{\\{data\\_dir\\}\\}/some/file'\n",
       "\\end{description}\n"
      ],
      "text/markdown": [
       "**$entry** = $file1\n",
       ":   '{data_dir}/some/file'\n",
       "$file2\n",
       ":   './{data_dir}/some/file'\n",
       "$file3\n",
       ":   '{{data_dir}}/some/file'\n",
       "$file4\n",
       ":   './{{data_dir}}/some/file'\n",
       "\n",
       "\n"
      ],
      "text/plain": [
       "$entry\n",
       "$entry$file1\n",
       "[1] \"{data_dir}/some/file\"\n",
       "\n",
       "$entry$file2\n",
       "[1] \"./{data_dir}/some/file\"\n",
       "\n",
       "$entry$file3\n",
       "[1] \"{{data_dir}}/some/file\"\n",
       "\n",
       "$entry$file4\n",
       "[1] \"./{{data_dir}}/some/file\"\n",
       "\n"
      ]
     },
     "metadata": {},
     "output_type": "display_data"
    }
   ],
   "source": [
    "config_file"
   ]
  },
  {
   "cell_type": "code",
   "execution_count": null,
   "id": "6ad4d662-7db6-43cf-8080-9a9d0d54ede4",
   "metadata": {},
   "outputs": [],
   "source": []
  }
 ],
 "metadata": {
  "kernelspec": {
   "display_name": "R",
   "language": "R",
   "name": "ir"
  },
  "language_info": {
   "codemirror_mode": "r",
   "file_extension": ".r",
   "mimetype": "text/x-r-source",
   "name": "R",
   "pygments_lexer": "r",
   "version": "4.4.1"
  }
 },
 "nbformat": 4,
 "nbformat_minor": 5
}
