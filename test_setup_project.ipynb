{
 "cells": [
  {
   "cell_type": "code",
   "execution_count": 1,
   "id": "4bc6f064-303a-46d7-8e81-68599d13aaf0",
   "metadata": {},
   "outputs": [],
   "source": [
    "from setup_project import main"
   ]
  },
  {
   "cell_type": "code",
   "execution_count": 2,
   "id": "18f3ad5e-5768-444b-9695-7c95f1da91f7",
   "metadata": {},
   "outputs": [
    {
     "name": "stdout",
     "output_type": "stream",
     "text": [
      "[DRY-RUN] Would execute: rm -rf .git\n",
      "[DRY-RUN] Would execute: mv ../project_template ../my_test_project\n",
      "[DRY-RUN] Would append YAML to template_user/dev/test_yml_out.yml\n",
      "[DRY-RUN] Would copy template_user -> user1_alias\n",
      "[DRY-RUN] Would copy template_user -> user2_alias\n"
     ]
    }
   ],
   "source": [
    "m = main(dry_run=True, \n",
    "         resources='template_user/dev/test_yml.yml',\n",
    "        output_resources='template_user/dev/test_yml_out.yml')"
   ]
  },
  {
   "cell_type": "code",
   "execution_count": null,
   "id": "2f81c334-c9b1-4932-9521-06ceca0fa975",
   "metadata": {},
   "outputs": [],
   "source": []
  }
 ],
 "metadata": {
  "kernelspec": {
   "display_name": "Python 3",
   "language": "python",
   "name": "python3"
  },
  "language_info": {
   "codemirror_mode": {
    "name": "ipython",
    "version": 3
   },
   "file_extension": ".py",
   "mimetype": "text/x-python",
   "name": "python",
   "nbconvert_exporter": "python",
   "pygments_lexer": "ipython3",
   "version": "3.7.12"
  }
 },
 "nbformat": 4,
 "nbformat_minor": 5
}
